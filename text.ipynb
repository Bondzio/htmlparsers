{
 "cells": [
  {
   "cell_type": "code",
   "execution_count": 1,
   "metadata": {},
   "outputs": [],
   "source": [
    "import os\n",
    "\n",
    "from bs4 import BeautifulSoup as bs\n",
    "from bs4.element import Comment"
   ]
  },
  {
   "cell_type": "code",
   "execution_count": 2,
   "metadata": {},
   "outputs": [],
   "source": [
    "f_name = '/home/act65/Downloads/semanticscholar/0704.1394/index.html'\n",
    "with open(f_name) as f:\n",
    "    s = f.read()\n",
    "page = bs(s, \"html.parser\")"
   ]
  },
  {
   "cell_type": "code",
   "execution_count": 6,
   "metadata": {},
   "outputs": [
    {
     "name": "stdout",
     "output_type": "stream",
     "text": [
      "    Calculating Valid Domains for BDD-Based Interactive Configuration   Tarik Hadzic Computational Logic and Algorithms Group, IT University of Copenhagen, Denmark 1    Rune Moller Jensen Computational Logic and Algorithms Group, IT University of Copenhagen, Denmark 2    Henrik Reif Andersen Computational Logic and Algorithms Group, IT University of Copenhagen, Denmark 3    Abstract  In these notes we formally describe the functionality of\n",
      "Calculating Valid Domains from the BDD representing the solution\n",
      "space of valid configurations. The formalization is largely based\n",
      "on the CLab [ 1 ] configuration framework.     1 Introduction   Interactive configuration problems are special applications of\n",
      "Constraint Satisfaction Problems (CSP) where a user is assisted in\n",
      "interactively assigning values to variables by a software tool.\n",
      "This software, called a configurator, assists the user by\n",
      "calculating and displaying the available, valid choices for each\n",
      "unassigned variable in what are called valid domains\n",
      "computations . Application areas include customising physical\n",
      "products (such as PC’s and cars) and services (such as airplane\n",
      "tickets and insurances).    Three important features are required of a tool that implements\n",
      "interactive configuration: it should be complete (all valid\n",
      "configurations should be reachable through user interaction),\n",
      "backtrack-free (a user is never forced to change an earlier choice\n",
      "due to incompleteness in the logical deductions), and it should\n",
      "provide real-time performance (feedback should be fast enough to\n",
      "allow real-time interactions). The requirement of obtaining\n",
      "backtrack-freeness while maintaining completeness makes the\n",
      "problem of calculating valid domains NP-hard. The real-time\n",
      "performance requirement enforces further that runtime calculations\n",
      "are bounded in polynomial time. According to user-interface\n",
      "design criteria, for a user to perceive interaction as being\n",
      "real-time, system response needs to be within about 250\n",
      "milliseconds in practice [ 2 ] \n"
     ]
    }
   ],
   "source": [
    "def tag_visible(element):\n",
    "    if element.parent.name in ['style', 'script', 'head', 'title', 'meta', '[document]']:\n",
    "        return False\n",
    "    if isinstance(element, Comment):\n",
    "        return False\n",
    "    return True\n",
    "\n",
    "def txt_from_html(html):\n",
    "    texts = html.findAll(text=True)\n",
    "    visible_texts = filter(tag_visible, texts)  \n",
    "    return u\" \".join(t.strip() for t in visible_texts)\n",
    "\n",
    "print(txt_from_html(page)[0:2000])"
   ]
  },
  {
   "cell_type": "code",
   "execution_count": 4,
   "metadata": {},
   "outputs": [
    {
     "ename": "NameError",
     "evalue": "name 'eqn_from_html' is not defined",
     "output_type": "error",
     "traceback": [
      "\u001b[0;31m---------------------------------------------------------------------------\u001b[0m",
      "\u001b[0;31mNameError\u001b[0m                                 Traceback (most recent call last)",
      "\u001b[0;32m<ipython-input-4-df498809c984>\u001b[0m in \u001b[0;36m<module>\u001b[0;34m()\u001b[0m\n\u001b[0;32m----> 1\u001b[0;31m \u001b[0meqn_from_html\u001b[0m\u001b[0;34m(\u001b[0m\u001b[0mhtml\u001b[0m\u001b[0;34m)\u001b[0m\u001b[0;34m\u001b[0m\u001b[0m\n\u001b[0m\u001b[1;32m      2\u001b[0m \u001b[0mimg_from_html\u001b[0m\u001b[0;34m(\u001b[0m\u001b[0mhtml\u001b[0m\u001b[0;34m)\u001b[0m\u001b[0;34m\u001b[0m\u001b[0m\n\u001b[1;32m      3\u001b[0m \u001b[0mref_from_html\u001b[0m\u001b[0;34m(\u001b[0m\u001b[0mhtml\u001b[0m\u001b[0;34m)\u001b[0m\u001b[0;34m\u001b[0m\u001b[0m\n",
      "\u001b[0;31mNameError\u001b[0m: name 'eqn_from_html' is not defined"
     ]
    }
   ],
   "source": [
    "eqn_from_html(html)\n",
    "img_from_html(html)\n",
    "ref_from_html(html)"
   ]
  },
  {
   "cell_type": "code",
   "execution_count": null,
   "metadata": {},
   "outputs": [],
   "source": []
  }
 ],
 "metadata": {
  "kernelspec": {
   "display_name": "Python 3",
   "language": "python",
   "name": "python3"
  },
  "language_info": {
   "codemirror_mode": {
    "name": "ipython",
    "version": 3
   },
   "file_extension": ".py",
   "mimetype": "text/x-python",
   "name": "python",
   "nbconvert_exporter": "python",
   "pygments_lexer": "ipython3",
   "version": "3.6.4"
  }
 },
 "nbformat": 4,
 "nbformat_minor": 2
}
